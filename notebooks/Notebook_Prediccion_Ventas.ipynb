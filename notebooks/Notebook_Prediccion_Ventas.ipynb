{
  "nbformat": 4,
  "nbformat_minor": 0,
  "metadata": {
    "colab": {
      "provenance": []
    },
    "kernelspec": {
      "name": "python3",
      "display_name": "Python 3"
    },
    "language_info": {
      "name": "python"
    }
  },
  "cells": [
    {
      "cell_type": "code",
      "execution_count": null,
      "metadata": {
        "id": "FdQZWMA9Jp0u"
      },
      "outputs": [],
      "source": [
        "# Notebook: Análisis Exploratorio de Ventas\n",
        "\n",
        "# Paso 1: Importar librerías\n",
        "import numpy as np\n",
        "import pandas as pd\n",
        "\n",
        "# Paso 2: Cargar los datos desde el archivo CSV\n",
        "ruta_archivo = '../data/retail_sales_analysis.csv'\n",
        "datos = np.genfromtxt(ruta_archivo, delimiter=',', dtype=str, skip_header=1)\n",
        "\n",
        "# Paso 3: Definir los encabezados manualmente\n",
        "headers = ['fecha', 'categoria', 'ventas']  # Ajustar según columnas reales del CSV\n",
        "\n",
        "# Convertir a DataFrame\n",
        "df = pd.DataFrame(datos, columns=headers)\n",
        "\n",
        "# Convertir tipos de datos\n",
        "df['ventas'] = pd.to_numeric(df['ventas'], errors='coerce')\n",
        "df['fecha'] = pd.to_datetime(df['fecha'], errors='coerce')\n",
        "df = df.dropna()\n",
        "\n",
        "# Vista previa de los datos\n",
        "df.head()"
      ]
    }
  ]
}