{
  "nbformat": 4,
  "nbformat_minor": 0,
  "metadata": {
    "colab": {
      "provenance": []
    },
    "kernelspec": {
      "name": "python3",
      "display_name": "Python 3"
    },
    "language_info": {
      "name": "python"
    }
  },
  "cells": [
    {
      "cell_type": "code",
      "execution_count": null,
      "metadata": {
        "id": "0_K4fdrw199F"
      },
      "outputs": [],
      "source": [
        "# Analisis Prediccion Ventas\n",
        "\n",
        "import numpy as np\n",
        "import pandas as pd\n",
        "\n",
        "# Paso 1: Cargar los datos desde el archivo CSV\n",
        "ruta_archivo = 'data/retail_sales_analysis.csv'\n",
        "datos = np.genfromtxt(ruta_archivo, delimiter=',', dtype=str, skip_header=1)\n",
        "\n",
        "# Paso 2: Definir los encabezados\n",
        "headers = ['Transaction ID', 'Date', 'Customer ID', 'Gender', 'Age', 'Product Category', 'Quantity', 'Price per Unit', 'Total Amount']\n",
        "df = pd.DataFrame(datos, columns=headers)\n",
        "\n",
        "# Paso 3: Conversión de tipos de datos\n",
        "df['Total Amount'] = pd.to_numeric(df['Total Amount'], errors='coerce')\n",
        "df['Date'] = pd.to_datetime(df['Date'], errors='coerce')\n",
        "df = df.dropna()\n",
        "\n",
        "# Paso 4: Análisis Exploratorio\n",
        "# Total de ventas por categoría\n",
        "total_por_categoria = df.groupby('Product Category')['Total Amount'].sum()\n",
        "\n",
        "# Promedio de ventas diarias por categoría\n",
        "promedio_diario = df.groupby(['Date', 'Product Category'])['Total Amount'].sum().groupby('Product Category').mean()\n",
        "\n",
        "# Categorías con mayores y menores ventas\n",
        "categoria_mayor_venta = total_por_categoria.idxmax()\n",
        "categoria_menor_venta = total_por_categoria.idxmin()\n",
        "\n",
        "# Paso 5: Manipulación de Datos\n",
        "# Filtrar por una categoría específica\n",
        "categoria_objetivo = 'Electronics'\n",
        "ventas_filtradas = df[df['Product Category'] == categoria_objetivo]\n",
        "\n",
        "# Estadísticas adicionales\n",
        "suma_total = df['Total Amount'].sum()\n",
        "resta_media = df['Total Amount'] - df['Total Amount'].mean()\n",
        "multiplicacion_doble = df['Total Amount'] * 2\n",
        "division_por_media = df['Total Amount'] / df['Total Amount'].mean()\n",
        "\n",
        "# Mostrar resultados\n",
        "print(\"Total por categoría:\\n\", total_por_categoria)\n",
        "print(\"\\nPromedio diario por categoría:\\n\", promedio_diario)\n",
        "print(f\"\\nCategoría con mayor venta: {categoria_mayor_venta}\")\n",
        "print(f\"Categoría con menor venta: {categoria_menor_venta}\")\n",
        "\n"
      ]
    }
  ]
}