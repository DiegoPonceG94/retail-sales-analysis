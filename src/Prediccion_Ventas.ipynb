{
  "nbformat": 4,
  "nbformat_minor": 0,
  "metadata": {
    "colab": {
      "provenance": []
    },
    "kernelspec": {
      "name": "python3",
      "display_name": "Python 3"
    },
    "language_info": {
      "name": "python"
    }
  },
  "cells": [
    {
      "cell_type": "code",
      "execution_count": null,
      "metadata": {
        "id": "FdQZWMA9Jp0u"
      },
      "outputs": [],
      "source": [
        "# Paso 1: Carga de librerías necesarias\n",
        "import numpy as np\n",
        "import pandas as pd\n",
        "\n",
        "# Paso 2: Cargar los datos desde un archivo CSV\n",
        "datos = np.genfromtxt('ventas.csv', delimiter=',', dtype=str)\n",
        "\n",
        "# Paso 3: Preprocesamiento básico\n",
        "# Asumimos que la primera fila es el encabezado\n",
        "headers = datos[0]\n",
        "datos = datos[1:]\n",
        "\n",
        "# Convertimos a DataFrame para facilidad en manipulación\n",
        "df = pd.DataFrame(datos, columns=headers)\n",
        "\n",
        "# Convertimos columnas numéricas a tipo adecuado\n",
        "df['ventas'] = pd.to_numeric(df['ventas'], errors='coerce')\n",
        "df['fecha'] = pd.to_datetime(df['fecha'], errors='coerce')\n",
        "\n",
        "# Eliminamos filas con datos faltantes\n",
        "df = df.dropna()\n",
        "\n",
        "# Paso 4: Exploración de datos\n",
        "# Total de ventas por categoría\n",
        "total_por_categoria = df.groupby('categoria')['ventas'].sum()\n",
        "\n",
        "# Promedio de ventas diarias por categoría\n",
        "promedio_diario = df.groupby(['fecha', 'categoria'])['ventas'].sum().groupby('categoria').mean()\n",
        "\n",
        "# Categorías con mayores y menores ventas\n",
        "categoria_mayor_venta = total_por_categoria.idxmax()\n",
        "categoria_menor_venta = total_por_categoria.idxmin()\n",
        "\n",
        "# Paso 5: Manipulación de Datos\n",
        "# Filtrar ventas de una categoría específica (por ejemplo \"Electrónica\")\n",
        "ventas_electronica = df[df['categoria'] == 'Electrónica']\n",
        "\n",
        "# Estadísticas adicionales usando operaciones matemáticas\n",
        "suma_total = df['ventas'].sum()\n",
        "resta_media = df['ventas'] - df['ventas'].mean()\n",
        "multiplicacion_doble = df['ventas'] * 2\n",
        "division_por_media = df['ventas'] / df['ventas'].mean()\n",
        "\n",
        "# Mostrar resultados (puedes imprimirlos o graficarlos en un notebook)\n",
        "print(\"Total por categoría:\\n\", total_por_categoria)\n",
        "print(\"\\nPromedio diario por categoría:\\n\", promedio_diario)\n",
        "print(f\"\\nCategoría con mayor venta: {categoria_mayor_venta}\")\n",
        "print(f\"Categoría con menor venta: {categoria_menor_venta}\")\n"
      ]
    }
  ]
}